{
 "cells": [
  {
   "cell_type": "code",
   "execution_count": null,
   "id": "391b37ae-3e27-4c2b-9b7f-dded715e4bdd",
   "metadata": {},
   "outputs": [],
   "source": [
    "# Data Exploration Notebook\n",
    "\n",
    "import pandas as pd\n",
    "\n",
    "# Load data\n",
    "spotify_df = pd.read_csv('../data/raw/spotify_data.csv')\n",
    "musicbrainz_df = pd.read_csv('../data/raw/musicbrainz_data.csv')\n",
    "\n",
    "# Display data\n",
    "print(\"Spotify Data:\")\n",
    "display(spotify_df.head())\n",
    "\n",
    "print(\"MusicBrainz Data:\")\n",
    "display(musicbrainz_df.head())\n",
    "\n",
    "# Basic statistics\n",
    "print(\"Spotify Data Statistics:\")\n",
    "display(spotify_df.describe())\n",
    "\n",
    "print(\"MusicBrainz Data Statistics:\")\n",
    "display(musicbrainz_df.describe())\n"
   ]
  }
 ],
 "metadata": {
  "kernelspec": {
   "display_name": "Python 3 (ipykernel)",
   "language": "python",
   "name": "python3"
  },
  "language_info": {
   "codemirror_mode": {
    "name": "ipython",
    "version": 3
   },
   "file_extension": ".py",
   "mimetype": "text/x-python",
   "name": "python",
   "nbconvert_exporter": "python",
   "pygments_lexer": "ipython3",
   "version": "3.12.3"
  }
 },
 "nbformat": 4,
 "nbformat_minor": 5
}
