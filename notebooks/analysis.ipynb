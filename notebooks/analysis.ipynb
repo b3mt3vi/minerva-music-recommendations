{
 "cells": [
  {
   "cell_type": "code",
   "execution_count": null,
   "id": "b2e2eff4-554d-4da6-8f09-20270413c3fb",
   "metadata": {},
   "outputs": [],
   "source": [
    "# import libraries, load env variables"
   ]
  },
  {
   "cell_type": "code",
   "execution_count": 68,
   "id": "d981684d-68a1-4ef7-8af2-2e5c201385ea",
   "metadata": {},
   "outputs": [],
   "source": [
    "import pandas as pd\n",
    "from sklearn.preprocessing import StandardScaler\n",
    "from annoy import AnnoyIndex\n",
    "import os\n",
    "from dotenv import load_dotenv\n",
    "import spotipy\n",
    "from spotipy.oauth2 import SpotifyClientCredentials\n",
    "import musicbrainzngs\n",
    "import requests\n",
    "\n",
    "# Load environment variables\n",
    "load_dotenv()\n",
    "\n",
    "LASTFM_API_KEY = os.getenv('LASTFM_API_KEY')\n",
    "SPOTIPY_CLIENT_ID = os.getenv('SPOTIPY_CLIENT_ID')\n",
    "SPOTIPY_CLIENT_SECRET = os.getenv('SPOTIPY_CLIENT_SECRET')\n",
    "MUSICBRAINZ_CLIENT_ID = os.getenv('MUSICBRAINZ_CLIENT_ID')\n",
    "MUSICBRAINZ_CLIENT_SECRET = os.getenv('MUSICBRAINZ_CLIENT_SECRET')\n",
    "\n",
    "# Initialize Spotipy with OAuth\n",
    "sp = spotipy.Spotify(auth_manager=SpotifyClientCredentials(client_id=SPOTIPY_CLIENT_ID,\n",
    "                                                           client_secret=SPOTIPY_CLIENT_SECRET))\n",
    "\n",
    "# MusicBrainz API setup\n",
    "musicbrainzngs.set_useragent(\"Minerva\", \"0.1\", \"daniel.marc.steinberg@gmail.com\")\n"
   ]
  },
  {
   "cell_type": "code",
   "execution_count": 69,
   "id": "a2a8e818-9faf-48af-a956-c0fed4be6394",
   "metadata": {},
   "outputs": [],
   "source": [
    "# def data collection funcs"
   ]
  },
  {
   "cell_type": "code",
   "execution_count": 70,
   "id": "8b6418f3-5436-4f61-882c-6b8859071dda",
   "metadata": {},
   "outputs": [],
   "source": [
    "def collect_lastfm_data(artist_name):\n",
    "    url = f\"http://ws.audioscrobbler.com/2.0/?method=artist.getinfo&artist={artist_name}&api_key={LASTFM_API_KEY}&format=json\"\n",
    "    response = requests.get(url)\n",
    "    data = response.json()\n",
    "    if 'artist' not in data:\n",
    "        print(f\"No data found for {artist_name} on Last.fm.\")\n",
    "        return None\n",
    "    artist_data = {\n",
    "        'name': data['artist']['name'],\n",
    "        'listeners': int(data['artist']['stats']['listeners']),\n",
    "        'playcount': int(data['artist']['stats']['playcount']),\n",
    "        'bio': data['artist']['bio']['summary']\n",
    "    }\n",
    "    return artist_data\n",
    "\n",
    "def collect_musicbrainz_data(artist_name):\n",
    "    result = musicbrainzngs.search_artists(artist=artist_name)\n",
    "    if not result['artist-list']:\n",
    "        print(f\"No data found for {artist_name} on MusicBrainz.\")\n",
    "        return []\n",
    "    artist_id = result['artist-list'][0]['id']\n",
    "    \n",
    "    # Get artist's releases\n",
    "    releases = musicbrainzngs.browse_releases(artist=artist_id, includes=[\"recordings\"], limit=5)\n",
    "    release_data = []\n",
    "    for release in releases['release-list']:\n",
    "        release_data.append({\n",
    "            'title': release['title'],\n",
    "            'date': release['date'],\n",
    "            'country': release.get('country', 'Unknown')\n",
    "        })\n",
    "    return release_data\n",
    "\n",
    "def collect_spotify_data(artist_name):\n",
    "    results = sp.search(q='artist:' + artist_name, type='artist')\n",
    "    if not results['artists']['items']:\n",
    "        print(f\"No data found for {artist_name} on Spotify.\")\n",
    "        return []\n",
    "    artist = results['artists']['items'][0]\n",
    "    artist_id = artist['id']\n",
    "    \n",
    "    # Get artist's albums\n",
    "    albums = sp.artist_albums(artist_id, album_type='album')\n",
    "    album_data = []\n",
    "    for album in albums['items']:\n",
    "        album_id = album['id']\n",
    "        tracks = sp.album_tracks(album_id)['items']\n",
    "        track_ids = [track['id'] for track in tracks]\n",
    "        \n",
    "        # Get audio features for all tracks in the album\n",
    "        if track_ids:\n",
    "            album_features = sp.audio_features(track_ids)\n",
    "            danceability = sum(track['danceability'] for track in album_features if track and 'danceability' in track) / len(album_features)\n",
    "            energy = sum(track['energy'] for track in album_features if track and 'energy' in track) / len(album_features)\n",
    "            valence = sum(track['valence'] for track in album_features if track and 'valence' in track) / len(album_features)\n",
    "            tempo = sum(track['tempo'] for track in album_features if track and 'tempo' in track) / len(album_features)\n",
    "            acousticness = sum(track['acousticness'] for track in album_features if track and 'acousticness' in track) / len(album_features)\n",
    "            instrumentalness = sum(track['instrumentalness'] for track in album_features if track and 'instrumentalness' in track) / len(album_features)\n",
    "            liveness = sum(track['liveness'] for track in album_features if track and 'liveness' in track) / len(album_features)\n",
    "            speechiness = sum(track['speechiness'] for track in album_features if track and 'speechiness' in track) / len(album_features)\n",
    "        else:\n",
    "            danceability = 0\n",
    "            energy = 0\n",
    "            valence = 0\n",
    "            tempo = 0\n",
    "            acousticness = 0\n",
    "            instrumentalness = 0\n",
    "            liveness = 0\n",
    "            speechiness = 0\n",
    "        \n",
    "        # Collect popularity of each track and compute the average\n",
    "        track_popularities = [track['popularity'] for track in tracks if 'popularity' in track]\n",
    "        if track_popularities:\n",
    "            popularity = sum(track_popularities) / len(track_popularities)\n",
    "        else:\n",
    "            popularity = 0\n",
    "        \n",
    "        album_data.append({\n",
    "            'album_name': album['name'],\n",
    "            'release_date': album['release_date'],\n",
    "            'total_tracks': album['total_tracks'],\n",
    "            'spotify_url': album['external_urls']['spotify'],\n",
    "            'danceability': danceability,\n",
    "            'energy': energy,\n",
    "            'valence': valence,\n",
    "            'tempo': tempo,\n",
    "            'acousticness': acousticness,\n",
    "            'instrumentalness': instrumentalness,\n",
    "            'liveness': liveness,\n",
    "            'speechiness': speechiness,\n",
    "            'popularity': popularity,\n",
    "            'genre': \", \".join(artist.get('genres', []))\n",
    "        })\n",
    "    return album_data\n"
   ]
  },
  {
   "cell_type": "code",
   "execution_count": 76,
   "id": "92bc0007-60c1-4bc2-9db3-43fc870fb78f",
   "metadata": {},
   "outputs": [
    {
     "name": "stdout",
     "output_type": "stream",
     "text": [
      "Collecting data for Elis Regina...\n"
     ]
    }
   ],
   "source": [
    "def collect_data(artist_name):\n",
    "    print(f\"Collecting data for {artist_name}...\")\n",
    "    \n",
    "    # Create necessary directories\n",
    "    os.makedirs('data/raw', exist_ok=True)\n",
    "    \n",
    "    lastfm_data = collect_lastfm_data(artist_name)\n",
    "    musicbrainz_data = collect_musicbrainz_data(artist_name)\n",
    "    spotify_data = collect_spotify_data(artist_name)\n",
    "    \n",
    "    # Save data to CSV files only if data is not None or empty\n",
    "    if lastfm_data:\n",
    "        lastfm_df = pd.DataFrame([lastfm_data])\n",
    "        lastfm_df.to_csv('data/raw/lastfm_data.csv', index=False)\n",
    "    \n",
    "    if musicbrainz_data:\n",
    "        musicbrainz_df = pd.DataFrame(musicbrainz_data)\n",
    "        musicbrainz_df.to_csv('data/raw/musicbrainz_data.csv', index=False)\n",
    "    \n",
    "    if spotify_data:\n",
    "        spotify_df = pd.DataFrame(spotify_data)\n",
    "        spotify_df.to_csv('data/raw/spotify_data.csv', index=False)\n",
    "        \n",
    "# Collect data for an example artist\n",
    "collect_data(\"Elis Regina\")"
   ]
  },
  {
   "cell_type": "code",
   "execution_count": 77,
   "id": "5e268ea5-4a8a-4933-b856-227e898669d2",
   "metadata": {},
   "outputs": [
    {
     "name": "stdout",
     "output_type": "stream",
     "text": [
      "Processing collected data...\n"
     ]
    }
   ],
   "source": [
    "def process_data():\n",
    "    print(\"Processing collected data...\")\n",
    "    \n",
    "    # Create necessary directories\n",
    "    os.makedirs('data/processed', exist_ok=True)\n",
    "    \n",
    "    # Load raw data\n",
    "    lastfm_df = pd.read_csv('data/raw/lastfm_data.csv')\n",
    "    musicbrainz_df = pd.read_csv('data/raw/musicbrainz_data.csv')\n",
    "    spotify_df = pd.read_csv('data/raw/spotify_data.csv')\n",
    "    \n",
    "    # Normalize artist names\n",
    "    lastfm_df['name'] = lastfm_df['name'].str.lower().str.strip()\n",
    "    musicbrainz_df['name'] = musicbrainz_df['title'].str.lower().str.strip()\n",
    "    spotify_df['name'] = spotify_df['album_name'].str.lower().str.strip()\n",
    "    \n",
    "    # Merge datasets\n",
    "    combined_df = pd.concat([lastfm_df, musicbrainz_df, spotify_df], axis=1)\n",
    "    \n",
    "    # Handle missing values\n",
    "    combined_df.fillna(0, inplace=True)\n",
    "    \n",
    "    # Ensure columns exist\n",
    "    feature_columns = ['listeners', 'playcount', 'danceability', 'energy', 'valence', 'popularity', 'tempo', 'acousticness', 'instrumentalness', 'liveness', 'speechiness']\n",
    "    for col in feature_columns:\n",
    "        if col not in combined_df:\n",
    "            combined_df[col] = 0\n",
    "    \n",
    "    # Extract and scale features\n",
    "    scaler = StandardScaler()\n",
    "    combined_df[feature_columns] = scaler.fit_transform(combined_df[feature_columns])\n",
    "    \n",
    "    # Save processed data\n",
    "    combined_df.to_csv('data/processed/processed_data.csv', index=False)\n",
    "    \n",
    "    # Define the number of features globally\n",
    "    global num_features\n",
    "    num_features = len(feature_columns)\n",
    "\n",
    "# Process the collected data\n",
    "process_data()\n",
    "\n"
   ]
  },
  {
   "cell_type": "code",
   "execution_count": 80,
   "id": "d3e62508-ba6f-4c1f-b63d-1a56ae911130",
   "metadata": {},
   "outputs": [
    {
     "name": "stdout",
     "output_type": "stream",
     "text": [
      "Building Annoy index...\n"
     ]
    }
   ],
   "source": [
    "def build_annoy_index():\n",
    "    print(\"Building Annoy index...\")\n",
    "\n",
    "    # Ensure the models directory exists\n",
    "    os.makedirs('models', exist_ok=True)\n",
    "\n",
    "    # Load processed data\n",
    "    combined_df = pd.read_csv('data/processed/processed_data.csv')\n",
    "\n",
    "    # Extract features for Annoy\n",
    "    feature_columns = ['listeners', 'playcount', 'danceability', 'energy', 'valence', 'popularity', 'tempo', 'acousticness', 'instrumentalness', 'liveness', 'speechiness']\n",
    "    features = combined_df[feature_columns].fillna(0).values\n",
    "\n",
    "    # Initialize Annoy index\n",
    "    index = AnnoyIndex(num_features, 'angular')\n",
    "\n",
    "    # Add items to the index\n",
    "    for i, feature_vector in enumerate(features):\n",
    "        index.add_item(i, feature_vector)\n",
    "\n",
    "    # Build the index\n",
    "    index.build(10)  # Number of trees\n",
    "    index.save('models/annoy_index.ann')\n",
    "\n",
    "# Build the Annoy index\n",
    "build_annoy_index()\n",
    "\n"
   ]
  },
  {
   "cell_type": "code",
   "execution_count": 79,
   "id": "3da96f56-ec20-4e0e-ac4c-daf478a17145",
   "metadata": {},
   "outputs": [
    {
     "name": "stdout",
     "output_type": "stream",
     "text": [
      "Recommendations:\n",
      "            name  listeners  playcount  \\\n",
      "0   elis regina   4.358899   4.358899   \n",
      "2             0  -0.229416  -0.229416   \n",
      "19            0  -0.229416  -0.229416   \n",
      "4             0  -0.229416  -0.229416   \n",
      "15            0  -0.229416  -0.229416   \n",
      "11            0  -0.229416  -0.229416   \n",
      "\n",
      "                                                  bio                  title  \\\n",
      "0   Elis Regina Carvalho Costa (March 17, 1945, Po...     Viva a Brotolândia   \n",
      "2                                                   0           Ellis Regina   \n",
      "19                                                  0                      0   \n",
      "4                                                   0  Samba, eu canto assim   \n",
      "15                                                  0                      0   \n",
      "11                                                  0                      0   \n",
      "\n",
      "      date country                 name.1                         album_name  \\\n",
      "0   1961.0      BR     viva a brotolândia                          Trem Azul   \n",
      "2   1963.0      BR           ellis regina                      Dois Na Bossa   \n",
      "19     0.0       0                      0                             Um Dia   \n",
      "4   1965.0      BR  samba, eu canto assim  Falso Brilhante (Remastered 2022)   \n",
      "15     0.0       0                      0                       Elis, O Mito   \n",
      "11     0.0       0                      0                       Elis 70 Anos   \n",
      "\n",
      "   release_date  ...    energy   valence     tempo  acousticness  \\\n",
      "0    2023-03-17  ...  0.581471 -0.398778  0.482128     -0.963818   \n",
      "2    2022-08-19  ...  1.165850  1.924617 -0.251728     -0.628288   \n",
      "19   2012-01-24  ...  2.556089 -0.932055  0.185507     -0.822497   \n",
      "4    2022-03-17  ... -0.884762 -1.282777  1.722188     -2.221747   \n",
      "15   2015-02-10  ... -0.475818  0.056434  2.683455     -0.358489   \n",
      "11   2015-07-31  ...  0.208247 -0.777657  0.094946     -0.381020   \n",
      "\n",
      "    instrumentalness  liveness  speechiness  popularity  \\\n",
      "0           3.531944  0.773914     1.314134         0.0   \n",
      "2           0.815302  2.389532     1.578423         0.0   \n",
      "19         -0.185168  1.980369     0.851662         0.0   \n",
      "4          -0.769725 -0.817635     2.098145         0.0   \n",
      "15          0.708151 -0.854218     0.071824         0.0   \n",
      "11         -0.021102  0.426890     0.342332         0.0   \n",
      "\n",
      "                                     genre                             name.2  \n",
      "0   bossa nova, brazilian jazz, mpb, samba                          trem azul  \n",
      "2   bossa nova, brazilian jazz, mpb, samba                      dois na bossa  \n",
      "19  bossa nova, brazilian jazz, mpb, samba                             um dia  \n",
      "4   bossa nova, brazilian jazz, mpb, samba  falso brilhante (remastered 2022)  \n",
      "15  bossa nova, brazilian jazz, mpb, samba                       elis, o mito  \n",
      "11  bossa nova, brazilian jazz, mpb, samba                       elis 70 anos  \n",
      "\n",
      "[6 rows x 23 columns]\n"
     ]
    }
   ],
   "source": [
    "def generate_annoy_recommendations(item_id, num_recommendations=10):\n",
    "    # Load the Annoy index\n",
    "    index = AnnoyIndex(num_features, 'angular')\n",
    "    index.load('models/annoy_index.ann')\n",
    "    \n",
    "    # Get nearest neighbors\n",
    "    nearest_neighbors = index.get_nns_by_item(item_id, num_recommendations + 1)\n",
    "    \n",
    "    # Load processed data\n",
    "    combined_df = pd.read_csv('data/processed/processed_data.csv')\n",
    "    \n",
    "    # Get recommendations\n",
    "    recommendations = combined_df.iloc[nearest_neighbors]\n",
    "    \n",
    "    return recommendations\n",
    "\n",
    "def get_recommendations(artist_name, num_recommendations=10):\n",
    "    # Load processed data\n",
    "    combined_df = pd.read_csv('data/processed/processed_data.csv')\n",
    "\n",
    "    # Find the index of the artist\n",
    "    artist_index = combined_df.index[combined_df['name'] == artist_name.lower().strip()].tolist()\n",
    "    if not artist_index:\n",
    "        print(f\"Artist {artist_name} not found in the dataset.\")\n",
    "        return\n",
    "\n",
    "    # Generate recommendations\n",
    "    recommendations = generate_annoy_recommendations(artist_index[0], num_recommendations)\n",
    "    print(\"Recommendations:\\n\", recommendations)\n",
    "\n",
    "# Example usage\n",
    "get_recommendations(\"Elis Regina\", 5)\n"
   ]
  },
  {
   "cell_type": "code",
   "execution_count": 57,
   "id": "61c831d7-f7bc-4762-839f-bdfb672b7025",
   "metadata": {},
   "outputs": [
    {
     "data": {
      "text/plain": [
       "'\\n\\nheres the raw output of our first test. undefined. \\n\\n'"
      ]
     },
     "execution_count": 57,
     "metadata": {},
     "output_type": "execute_result"
    }
   ],
   "source": [
    "'''\n",
    "heres the raw output of our first test. undefined. \n",
    "'''"
   ]
  },
  {
   "cell_type": "code",
   "execution_count": 58,
   "id": "18e064f0-d2ba-4ab6-aa0f-1d0343405745",
   "metadata": {},
   "outputs": [
    {
     "name": "stdout",
     "output_type": "stream",
     "text": [
      "Collecting data for Elis Regina...\n"
     ]
    }
   ],
   "source": [
    "collect_data(\"Elis Regina\")"
   ]
  },
  {
   "cell_type": "code",
   "execution_count": 45,
   "id": "9fbb4a66-7247-466c-b48c-93166ad4cced",
   "metadata": {},
   "outputs": [
    {
     "name": "stdout",
     "output_type": "stream",
     "text": [
      "Processing collected data...\n"
     ]
    }
   ],
   "source": [
    "process_data()"
   ]
  },
  {
   "cell_type": "code",
   "execution_count": 46,
   "id": "511dedbe-689f-4ba4-98b1-a287481be9c7",
   "metadata": {},
   "outputs": [
    {
     "name": "stdout",
     "output_type": "stream",
     "text": [
      "Building Annoy index...\n"
     ]
    }
   ],
   "source": [
    "build_annoy_index()"
   ]
  },
  {
   "cell_type": "code",
   "execution_count": 50,
   "id": "b9b6d0bd-f350-43d2-b2cc-cc2643766699",
   "metadata": {},
   "outputs": [
    {
     "name": "stdout",
     "output_type": "stream",
     "text": [
      "Recommendations:\n",
      "            name  listeners  playcount  \\\n",
      "0   elis regina   4.358899   4.358899   \n",
      "2             0  -0.229416  -0.229416   \n",
      "19            0  -0.229416  -0.229416   \n",
      "4             0  -0.229416  -0.229416   \n",
      "15            0  -0.229416  -0.229416   \n",
      "11            0  -0.229416  -0.229416   \n",
      "\n",
      "                                                  bio                  title  \\\n",
      "0   Elis Regina Carvalho Costa (March 17, 1945, Po...     Viva a Brotolândia   \n",
      "2                                                   0           Ellis Regina   \n",
      "19                                                  0                      0   \n",
      "4                                                   0  Samba, eu canto assim   \n",
      "15                                                  0                      0   \n",
      "11                                                  0                      0   \n",
      "\n",
      "      date country                 name.1                         album_name  \\\n",
      "0   1961.0      BR     viva a brotolândia                          Trem Azul   \n",
      "2   1963.0      BR           ellis regina                      Dois Na Bossa   \n",
      "19     0.0       0                      0                             Um Dia   \n",
      "4   1965.0      BR  samba, eu canto assim  Falso Brilhante (Remastered 2022)   \n",
      "15     0.0       0                      0                       Elis, O Mito   \n",
      "11     0.0       0                      0                       Elis 70 Anos   \n",
      "\n",
      "   release_date  ...    energy   valence     tempo  acousticness  \\\n",
      "0    2023-03-17  ...  0.581471 -0.398778  0.482128     -0.963818   \n",
      "2    2022-08-19  ...  1.165850  1.924617 -0.251728     -0.628288   \n",
      "19   2012-01-24  ...  2.556089 -0.932055  0.185507     -0.822497   \n",
      "4    2022-03-17  ... -0.884762 -1.282777  1.722188     -2.221747   \n",
      "15   2015-02-10  ... -0.475818  0.056434  2.683455     -0.358489   \n",
      "11   2015-07-31  ...  0.208247 -0.777657  0.094946     -0.381020   \n",
      "\n",
      "    instrumentalness  liveness  speechiness  popularity  \\\n",
      "0           3.531944  0.773914     1.314134         0.0   \n",
      "2           0.815302  2.389532     1.578423         0.0   \n",
      "19         -0.185168  1.980369     0.851662         0.0   \n",
      "4          -0.769725 -0.817635     2.098145         0.0   \n",
      "15          0.708151 -0.854218     0.071824         0.0   \n",
      "11         -0.021102  0.426890     0.342332         0.0   \n",
      "\n",
      "                                     genre                             name.2  \n",
      "0   bossa nova, brazilian jazz, mpb, samba                          trem azul  \n",
      "2   bossa nova, brazilian jazz, mpb, samba                      dois na bossa  \n",
      "19  bossa nova, brazilian jazz, mpb, samba                             um dia  \n",
      "4   bossa nova, brazilian jazz, mpb, samba  falso brilhante (remastered 2022)  \n",
      "15  bossa nova, brazilian jazz, mpb, samba                       elis, o mito  \n",
      "11  bossa nova, brazilian jazz, mpb, samba                       elis 70 anos  \n",
      "\n",
      "[6 rows x 23 columns]\n"
     ]
    }
   ],
   "source": [
    "get_recommendations(\"Elis Regina\", 5)"
   ]
  }
 ],
 "metadata": {
  "kernelspec": {
   "display_name": "Python 3 (ipykernel)",
   "language": "python",
   "name": "python3"
  },
  "language_info": {
   "codemirror_mode": {
    "name": "ipython",
    "version": 3
   },
   "file_extension": ".py",
   "mimetype": "text/x-python",
   "name": "python",
   "nbconvert_exporter": "python",
   "pygments_lexer": "ipython3",
   "version": "3.12.2"
  }
 },
 "nbformat": 4,
 "nbformat_minor": 5
}
