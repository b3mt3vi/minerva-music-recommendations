{
 "cells": [
  {
   "cell_type": "code",
   "execution_count": 15,
   "id": "935252ef-7b31-456f-90d6-1a9bdb4fd87f",
   "metadata": {},
   "outputs": [],
   "source": [
    "# Cell 1: Imports and Configurations\n",
    "import pandas as pd\n",
    "from annoy import AnnoyIndex\n",
    "import os\n",
    "\n",
    "# Constants\n",
    "data_path = 'data/processed/processed_data.csv'\n",
    "num_features = 11"
   ]
  },
  {
   "cell_type": "code",
   "execution_count": 16,
   "id": "046220c9-7931-43f9-94d5-0d4a6d433405",
   "metadata": {},
   "outputs": [],
   "source": [
    "# Cell 2: Functions for Building the Annoy Index\n",
    "def build_annoy_index():\n",
    "    print(\"Building Annoy index...\")\n",
    "\n",
    "    # Ensure the models directory exists\n",
    "    os.makedirs('models', exist_ok=True)\n",
    "\n",
    "    # Load processed data\n",
    "    combined_df = pd.read_csv(data_path)\n",
    "\n",
    "    # Extract features for Annoy\n",
    "    feature_columns = ['listeners', 'playcount', 'danceability', 'energy', 'valence', 'popularity', 'tempo', 'acousticness', 'instrumentalness', 'liveness', 'speechiness']\n",
    "    features = combined_df[feature_columns].fillna(0).values\n",
    "\n",
    "    # Initialize Annoy index\n",
    "    index = AnnoyIndex(num_features, 'angular')\n",
    "\n",
    "    # Add items to the index\n",
    "    for i, feature_vector in enumerate(features):\n",
    "        index.add_item(i, feature_vector)\n",
    "\n",
    "    # Build the index\n",
    "    index.build(10)  # Number of trees\n",
    "    index.save('models/annoy_index.ann')\n",
    "    print(\"Annoy index built and saved successfully.\")\n"
   ]
  },
  {
   "cell_type": "code",
   "execution_count": 17,
   "id": "97858230-f888-4721-b122-c26f504e1d66",
   "metadata": {},
   "outputs": [
    {
     "name": "stdout",
     "output_type": "stream",
     "text": [
      "Building Annoy index...\n",
      "Annoy index built and saved successfully.\n"
     ]
    }
   ],
   "source": [
    "# Cell 3: Build the Annoy Index\n",
    "build_annoy_index()"
   ]
  },
  {
   "cell_type": "code",
   "execution_count": 18,
   "id": "4e1b64ad-8332-46e9-8987-7dfc7f24db15",
   "metadata": {},
   "outputs": [
    {
     "name": "stdout",
     "output_type": "stream",
     "text": [
      "Recommendations:\n",
      "            name  listeners  playcount  \\\n",
      "0   elis regina   4.358899   4.358899   \n",
      "2             0  -0.229416  -0.229416   \n",
      "19            0  -0.229416  -0.229416   \n",
      "4             0  -0.229416  -0.229416   \n",
      "15            0  -0.229416  -0.229416   \n",
      "11            0  -0.229416  -0.229416   \n",
      "\n",
      "                                                  bio  \\\n",
      "0   Elis Regina Carvalho Costa (March 17, 1945, Po...   \n",
      "2                                                   0   \n",
      "19                                                  0   \n",
      "4                                                   0   \n",
      "15                                                  0   \n",
      "11                                                  0   \n",
      "\n",
      "                           album_name release_date  total_tracks  \\\n",
      "0                           Trem Azul   2023-03-17            25   \n",
      "2                       Dois Na Bossa   2022-08-19            10   \n",
      "19                             Um Dia   2012-01-24            27   \n",
      "4   Falso Brilhante (Remastered 2022)   2022-03-17            10   \n",
      "15                       Elis, O Mito   2015-02-10            17   \n",
      "11                       Elis 70 Anos   2015-07-31            45   \n",
      "\n",
      "                                          spotify_url  danceability    energy  \\\n",
      "0   https://open.spotify.com/album/0Jl8gxF0bV3CDB2...     -1.746052  0.581471   \n",
      "2   https://open.spotify.com/album/3H2xT2Auu7GGjpq...     -0.839357  1.165850   \n",
      "19  https://open.spotify.com/album/3phfYBXSkgSupBB...     -0.218204  2.556089   \n",
      "4   https://open.spotify.com/album/5mXrkJyXx9VluFC...     -0.709663 -0.884762   \n",
      "15  https://open.spotify.com/album/4lRlS2L6i4oLDHJ...      0.450065 -0.475818   \n",
      "11  https://open.spotify.com/album/0VJNLXOqJnraEi0...     -0.358436  0.208247   \n",
      "\n",
      "     valence     tempo  acousticness  instrumentalness  liveness  speechiness  \\\n",
      "0  -0.398778  0.482128     -0.963818          3.531944  0.773914     1.314134   \n",
      "2   1.924617 -0.251728     -0.628288          0.815302  2.389532     1.578423   \n",
      "19 -0.932055  0.185507     -0.822497         -0.185168  1.980369     0.851662   \n",
      "4  -1.282777  1.722188     -2.221747         -0.769725 -0.817635     2.098145   \n",
      "15  0.056434  2.683455     -0.358489          0.708151 -0.854218     0.071824   \n",
      "11 -0.777657  0.094946     -0.381020         -0.021102  0.426890     0.342332   \n",
      "\n",
      "    popularity                                   genre  \\\n",
      "0          0.0  bossa nova, brazilian jazz, mpb, samba   \n",
      "2          0.0  bossa nova, brazilian jazz, mpb, samba   \n",
      "19         0.0  bossa nova, brazilian jazz, mpb, samba   \n",
      "4          0.0  bossa nova, brazilian jazz, mpb, samba   \n",
      "15         0.0  bossa nova, brazilian jazz, mpb, samba   \n",
      "11         0.0  bossa nova, brazilian jazz, mpb, samba   \n",
      "\n",
      "                               name.1  \n",
      "0                           trem azul  \n",
      "2                       dois na bossa  \n",
      "19                             um dia  \n",
      "4   falso brilhante (remastered 2022)  \n",
      "15                       elis, o mito  \n",
      "11                       elis 70 anos  \n"
     ]
    }
   ],
   "source": [
    "# Cell 4: Generating Recommendations\n",
    "def generate_annoy_recommendations(item_id, num_recommendations=10):\n",
    "    # Load the Annoy index\n",
    "    index = AnnoyIndex(num_features, 'angular')\n",
    "    index.load('models/annoy_index.ann')\n",
    "    \n",
    "    # Get nearest neighbors\n",
    "    nearest_neighbors = index.get_nns_by_item(item_id, num_recommendations + 1)\n",
    "    \n",
    "    # Load processed data\n",
    "    combined_df = pd.read_csv(data_path)\n",
    "    \n",
    "    # Get recommendations\n",
    "    recommendations = combined_df.iloc[nearest_neighbors]\n",
    "    \n",
    "    return recommendations\n",
    "\n",
    "def get_recommendations(artist_name, num_recommendations=10):\n",
    "    # Load processed data\n",
    "    combined_df = pd.read_csv(data_path)\n",
    "\n",
    "    # Find the index of the artist\n",
    "    artist_index = combined_df.index[combined_df['name'] == artist_name.lower().strip()].tolist()\n",
    "    if not artist_index:\n",
    "        print(f\"Artist {artist_name} not found in the dataset.\")\n",
    "        return\n",
    "\n",
    "    # Generate recommendations\n",
    "    recommendations = generate_annoy_recommendations(artist_index[0], num_recommendations)\n",
    "    print(\"Recommendations:\\n\", recommendations)\n",
    "\n",
    "# Example usage\n",
    "get_recommendations(\"Elis Regina\", 5)"
   ]
  },
  {
   "cell_type": "code",
   "execution_count": null,
   "id": "070e217a-822c-4ceb-bab1-0fd90a5ffebe",
   "metadata": {},
   "outputs": [],
   "source": []
  }
 ],
 "metadata": {
  "kernelspec": {
   "display_name": "Python 3 (ipykernel)",
   "language": "python",
   "name": "python3"
  },
  "language_info": {
   "codemirror_mode": {
    "name": "ipython",
    "version": 3
   },
   "file_extension": ".py",
   "mimetype": "text/x-python",
   "name": "python",
   "nbconvert_exporter": "python",
   "pygments_lexer": "ipython3",
   "version": "3.12.2"
  }
 },
 "nbformat": 4,
 "nbformat_minor": 5
}
