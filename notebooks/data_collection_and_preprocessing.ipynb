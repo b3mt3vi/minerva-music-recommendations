{
 "cells": [
  {
   "cell_type": "code",
   "execution_count": 24,
   "id": "678b0ca8-9a03-4620-adca-1c90c1cf4271",
   "metadata": {},
   "outputs": [],
   "source": [
    "# Data Collection and Preprocessing"
   ]
  },
  {
   "cell_type": "code",
   "execution_count": 25,
   "id": "425aecc7-90ac-4198-b6fb-6257ea12b42b",
   "metadata": {},
   "outputs": [],
   "source": [
    "# Cell 1: Imports and Configurations\n",
    "import pandas as pd\n",
    "import numpy as np\n",
    "import requests\n",
    "import os\n",
    "from sklearn.preprocessing import StandardScaler  # Import StandardScaler\n",
    "\n",
    "# Constants\n",
    "LASTFM_API_KEY = 'your_lastfm_api_key'\n",
    "SPOTIFY_CLIENT_ID = 'your_spotify_client_id'\n",
    "SPOTIFY_CLIENT_SECRET = 'your_spotify_client_secret'\n",
    "data_path = 'data/processed/processed_data.csv'\n",
    "\n"
   ]
  },
  {
   "cell_type": "code",
   "execution_count": 26,
   "id": "4b3e21c3-35a5-4cf5-958c-37aed2b25f58",
   "metadata": {},
   "outputs": [],
   "source": [
    "# Cell 2: Functions for Data Collection\n",
    "def collect_data(artist_name):\n",
    "    # Placeholder for the actual data collection implementation\n",
    "    pass\n"
   ]
  },
  {
   "cell_type": "code",
   "execution_count": 27,
   "id": "cb670158-c0a0-47d1-a313-1d2950977ef0",
   "metadata": {},
   "outputs": [],
   "source": [
    "# Cell 3: Collect Data\n",
    "collect_data(\"Elis Regina\")"
   ]
  },
  {
   "cell_type": "raw",
   "id": "423f1255-c7ac-43f7-aed9-9e5693a60255",
   "metadata": {},
   "source": []
  },
  {
   "cell_type": "code",
   "execution_count": 28,
   "id": "bb597f3d-a718-4fc6-8030-6eb89d9cd140",
   "metadata": {},
   "outputs": [
    {
     "name": "stdout",
     "output_type": "stream",
     "text": [
      "                          album_name release_date  total_tracks  \\\n",
      "0                          Trem Azul   2023-03-17            25   \n",
      "1              Dá sorte (Remastered)   2023-02-06            12   \n",
      "2                      Dois Na Bossa   2022-08-19            10   \n",
      "3                           Tu Serás   2022-04-15            12   \n",
      "4  Falso Brilhante (Remastered 2022)   2022-03-17            10   \n",
      "\n",
      "                                         spotify_url  danceability    energy  \\\n",
      "0  https://open.spotify.com/album/0Jl8gxF0bV3CDB2...      0.420960  0.500756   \n",
      "1  https://open.spotify.com/album/6xlEhOcMe6xMN48...      0.536250  0.332917   \n",
      "2  https://open.spotify.com/album/3H2xT2Auu7GGjpq...      0.467800  0.555600   \n",
      "3  https://open.spotify.com/album/3r7GOH7EAm31i6h...      0.560083  0.324000   \n",
      "4  https://open.spotify.com/album/5mXrkJyXx9VluFC...      0.474500  0.363150   \n",
      "\n",
      "    valence       tempo  acousticness  instrumentalness  liveness  \\\n",
      "0  0.447968  119.194400      0.546132          0.191820  0.497960   \n",
      "1  0.608833  115.466500      0.877750          0.000159  0.241358   \n",
      "2  0.753500  113.372600      0.592600          0.071085  0.830900   \n",
      "3  0.596583  119.392083      0.871083          0.047618  0.148258   \n",
      "4  0.331720  129.032000      0.371920          0.000643  0.169980   \n",
      "\n",
      "   speechiness  popularity                                   genre  \n",
      "0     0.135048           0  bossa nova, brazilian jazz, mpb, samba  \n",
      "1     0.045208           0  bossa nova, brazilian jazz, mpb, samba  \n",
      "2     0.144420           0  bossa nova, brazilian jazz, mpb, samba  \n",
      "3     0.060575           0  bossa nova, brazilian jazz, mpb, samba  \n",
      "4     0.162850           0  bossa nova, brazilian jazz, mpb, samba  \n",
      "          name  listeners  playcount  \\\n",
      "0  Elis Regina     763777   17862320   \n",
      "\n",
      "                                                 bio  \n",
      "0  Elis Regina Carvalho Costa (March 17, 1945, Po...  \n"
     ]
    }
   ],
   "source": [
    "# Cell 4: Data Inspection\n",
    "spotify_data = pd.read_csv('data/raw/spotify_data.csv')\n",
    "lastfm_data = pd.read_csv('data/raw/lastfm_data.csv')\n",
    "\n",
    "print(spotify_data.head())\n",
    "print(lastfm_data.head())\n"
   ]
  },
  {
   "cell_type": "code",
   "execution_count": 29,
   "id": "5ea4553a-aed5-4aba-b2c4-8ded1acb0e3d",
   "metadata": {},
   "outputs": [],
   "source": [
    "# Cell 5: Data Processing\n",
    "def process_data():\n",
    "    print(\"Processing collected data...\")\n",
    "    \n",
    "    # Create necessary directories\n",
    "    os.makedirs('data/processed', exist_ok=True)\n",
    "    \n",
    "    # Load raw data\n",
    "    lastfm_df = pd.read_csv('data/raw/lastfm_data.csv')\n",
    "    spotify_df = pd.read_csv('data/raw/spotify_data.csv')\n",
    "    \n",
    "    # Normalize artist names\n",
    "    lastfm_df['name'] = lastfm_df['name'].str.lower().str.strip()\n",
    "    spotify_df['name'] = spotify_df['album_name'].str.lower().str.strip()\n",
    "    \n",
    "    # Merge datasets\n",
    "    combined_df = pd.concat([lastfm_df, spotify_df], axis=1)\n",
    "    \n",
    "    # Handle missing values\n",
    "    combined_df.fillna(0, inplace=True)\n",
    "    \n",
    "    # Ensure columns exist\n",
    "    feature_columns = ['listeners', 'playcount', 'danceability', 'energy', 'valence', 'popularity', 'tempo', 'acousticness', 'instrumentalness', 'liveness', 'speechiness']\n",
    "    for col in feature_columns:\n",
    "        if col not in combined_df:\n",
    "            combined_df[col] = 0\n",
    "    \n",
    "    # Extract and scale features\n",
    "    scaler = StandardScaler()\n",
    "    combined_df[feature_columns] = scaler.fit_transform(combined_df[feature_columns])\n",
    "    \n",
    "    # Save processed data\n",
    "    combined_df.to_csv('data/processed/processed_data.csv', index=False)\n",
    "    \n",
    "    # Define the number of features globally\n",
    "    global num_features\n",
    "    num_features = len(feature_columns)\n",
    "    \n",
    "    print(\"Data processed and saved successfully.\")\n"
   ]
  },
  {
   "cell_type": "code",
   "execution_count": 30,
   "id": "15340ed3-71ee-458c-aea7-4ce53ea5e723",
   "metadata": {},
   "outputs": [
    {
     "name": "stdout",
     "output_type": "stream",
     "text": [
      "Processing collected data...\n",
      "Data processed and saved successfully.\n"
     ]
    }
   ],
   "source": [
    "# Cell 6: Process Data\n",
    "process_data()"
   ]
  },
  {
   "cell_type": "code",
   "execution_count": null,
   "id": "dd1689ce-ec8e-485a-8474-a75fd6d9d088",
   "metadata": {},
   "outputs": [],
   "source": []
  }
 ],
 "metadata": {
  "kernelspec": {
   "display_name": "Python 3 (ipykernel)",
   "language": "python",
   "name": "python3"
  },
  "language_info": {
   "codemirror_mode": {
    "name": "ipython",
    "version": 3
   },
   "file_extension": ".py",
   "mimetype": "text/x-python",
   "name": "python",
   "nbconvert_exporter": "python",
   "pygments_lexer": "ipython3",
   "version": "3.12.2"
  }
 },
 "nbformat": 4,
 "nbformat_minor": 5
}
