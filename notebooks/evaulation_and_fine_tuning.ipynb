{
 "cells": [
  {
   "cell_type": "code",
   "execution_count": 5,
   "id": "74bc6f0c-fa27-4e8d-b44e-7aca42a8d418",
   "metadata": {},
   "outputs": [],
   "source": [
    "# Evaluation and Fine-Tuning"
   ]
  },
  {
   "cell_type": "code",
   "execution_count": 6,
   "id": "0d5293f6-2b91-48ba-b248-c4c5c3ca7bc9",
   "metadata": {},
   "outputs": [],
   "source": [
    "# Cell 1: Imports and Configurations\n",
    "import pandas as pd\n",
    "from sklearn.metrics import precision_score, recall_score, f1_score, mean_squared_error\n",
    "from sklearn.model_selection import train_test_split\n",
    "import os\n",
    "\n",
    "# Define file paths\n",
    "train_data_path = 'data/processed/train_data.csv'\n",
    "test_data_path = 'data/processed/test_data.csv'\n",
    "\n"
   ]
  },
  {
   "cell_type": "code",
   "execution_count": 7,
   "id": "39f527da-980c-4ee5-ac86-b8f51c57c0c3",
   "metadata": {},
   "outputs": [
    {
     "ename": "NameError",
     "evalue": "name 'os' is not defined",
     "output_type": "error",
     "traceback": [
      "\u001b[0;31m---------------------------------------------------------------------------\u001b[0m",
      "\u001b[0;31mNameError\u001b[0m                                 Traceback (most recent call last)",
      "Cell \u001b[0;32mIn[7], line 11\u001b[0m\n\u001b[1;32m      8\u001b[0m train_df, test_df \u001b[38;5;241m=\u001b[39m train_test_split(combined_df, test_size\u001b[38;5;241m=\u001b[39m\u001b[38;5;241m0.2\u001b[39m, random_state\u001b[38;5;241m=\u001b[39m\u001b[38;5;241m42\u001b[39m)\n\u001b[1;32m     10\u001b[0m \u001b[38;5;66;03m# Save the training and testing data\u001b[39;00m\n\u001b[0;32m---> 11\u001b[0m \u001b[43mos\u001b[49m\u001b[38;5;241m.\u001b[39mmakedirs(\u001b[38;5;124m'\u001b[39m\u001b[38;5;124mdata/processed\u001b[39m\u001b[38;5;124m'\u001b[39m, exist_ok\u001b[38;5;241m=\u001b[39m\u001b[38;5;28;01mTrue\u001b[39;00m)\n\u001b[1;32m     12\u001b[0m train_df\u001b[38;5;241m.\u001b[39mto_csv(train_data_path, index\u001b[38;5;241m=\u001b[39m\u001b[38;5;28;01mFalse\u001b[39;00m)\n\u001b[1;32m     13\u001b[0m test_df\u001b[38;5;241m.\u001b[39mto_csv(test_data_path, index\u001b[38;5;241m=\u001b[39m\u001b[38;5;28;01mFalse\u001b[39;00m)\n",
      "\u001b[0;31mNameError\u001b[0m: name 'os' is not defined"
     ]
    }
   ],
   "source": [
    "# Cell 2: Load Training and Testing Data\n",
    "combined_df = pd.read_csv('data/processed/processed_data.csv')\n",
    "\n",
    "# Feature columns\n",
    "feature_columns = ['listeners', 'playcount', 'danceability', 'energy', 'valence', 'popularity', 'tempo', 'acousticness', 'instrumentalness', 'liveness', 'speechiness']\n",
    "\n",
    "# Splitting the data\n",
    "train_df, test_df = train_test_split(combined_df, test_size=0.2, random_state=42)\n",
    "\n",
    "# Save the training and testing data\n",
    "os.makedirs('data/processed', exist_ok=True)\n",
    "train_df.to_csv(train_data_path, index=False)\n",
    "test_df.to_csv(test_data_path, index=False)\n"
   ]
  },
  {
   "cell_type": "code",
   "execution_count": 8,
   "id": "3e0b2af4-71fc-4f1c-953b-d8b153e5ef13",
   "metadata": {},
   "outputs": [
    {
     "name": "stdout",
     "output_type": "stream",
     "text": [
      "Precision: 1.0\n",
      "Recall: 1.0\n",
      "F1 Score: 1.0\n",
      "Mean Squared Error: 0.0\n"
     ]
    }
   ],
   "source": [
    "# Cell 3: Evaluate Model\n",
    "# Load train and test data\n",
    "train_df = pd.read_csv(train_data_path)\n",
    "test_df = pd.read_csv(test_data_path)\n",
    "\n",
    "# Function to evaluate the model\n",
    "def evaluate_model():\n",
    "    # Placeholder function to generate predictions\n",
    "    # You can implement your own recommendation model and generate predictions\n",
    "    def generate_predictions(test_data):\n",
    "        # Dummy predictions for demonstration\n",
    "        return [0] * len(test_data)\n",
    "    \n",
    "    y_true = test_df['popularity']  # Replace with actual target column\n",
    "    y_pred = generate_predictions(test_df)\n",
    "    \n",
    "    precision = precision_score(y_true, y_pred, average='macro')\n",
    "    recall = recall_score(y_true, y_pred, average='macro')\n",
    "    f1 = f1_score(y_true, y_pred, average='macro')\n",
    "    mse = mean_squared_error(y_true, y_pred)\n",
    "    \n",
    "    print(f\"Precision: {precision}\")\n",
    "    print(f\"Recall: {recall}\")\n",
    "    print(f\"F1 Score: {f1}\")\n",
    "    print(f\"Mean Squared Error: {mse}\")\n",
    "\n",
    "# Evaluate the model\n",
    "evaluate_model()"
   ]
  },
  {
   "cell_type": "code",
   "execution_count": 9,
   "id": "fa20093f-e8c8-4759-b123-2beb7a2e4b4b",
   "metadata": {},
   "outputs": [
    {
     "name": "stdout",
     "output_type": "stream",
     "text": [
      "Precision: 1.0\n",
      "Recall: 1.0\n",
      "F1 Score: 1.0\n",
      "Mean Squared Error: 0.0\n"
     ]
    }
   ],
   "source": [
    "from sklearn.metrics import precision_score, recall_score, f1_score, mean_squared_error\n",
    "\n",
    "# Load train and test data\n",
    "train_df = pd.read_csv('data/processed/train_data.csv')\n",
    "test_df = pd.read_csv('data/processed/test_data.csv')\n",
    "\n",
    "# Function to evaluate the model\n",
    "def evaluate_model():\n",
    "    # Placeholder function to generate predictions\n",
    "    # You can implement your own recommendation model and generate predictions\n",
    "    def generate_predictions(test_data):\n",
    "        # Dummy predictions for demonstration\n",
    "        return [0] * len(test_data)\n",
    "    \n",
    "    y_true = test_df['popularity']  # Replace with actual target column\n",
    "    y_pred = generate_predictions(test_df)\n",
    "    \n",
    "    precision = precision_score(y_true, y_pred, average='macro')\n",
    "    recall = recall_score(y_true, y_pred, average='macro')\n",
    "    f1 = f1_score(y_true, y_pred, average='macro')\n",
    "    mse = mean_squared_error(y_true, y_pred)\n",
    "    \n",
    "    print(f\"Precision: {precision}\")\n",
    "    print(f\"Recall: {recall}\")\n",
    "    print(f\"F1 Score: {f1}\")\n",
    "    print(f\"Mean Squared Error: {mse}\")\n",
    "\n",
    "# Evaluate the model\n",
    "evaluate_model()"
   ]
  },
  {
   "cell_type": "code",
   "execution_count": null,
   "id": "9e6d29fc-0e8f-4e46-a6de-0d3a5212789c",
   "metadata": {},
   "outputs": [],
   "source": []
  }
 ],
 "metadata": {
  "kernelspec": {
   "display_name": "Python 3 (ipykernel)",
   "language": "python",
   "name": "python3"
  },
  "language_info": {
   "codemirror_mode": {
    "name": "ipython",
    "version": 3
   },
   "file_extension": ".py",
   "mimetype": "text/x-python",
   "name": "python",
   "nbconvert_exporter": "python",
   "pygments_lexer": "ipython3",
   "version": "3.12.2"
  }
 },
 "nbformat": 4,
 "nbformat_minor": 5
}
